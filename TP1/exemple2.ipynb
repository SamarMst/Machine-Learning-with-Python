{
 "cells": [
  {
   "cell_type": "code",
   "execution_count": 26,
   "id": "20e89be3-da27-472d-8cda-605724928d05",
   "metadata": {
    "editable": true,
    "slideshow": {
     "slide_type": ""
    },
    "tags": []
   },
   "outputs": [
    {
     "name": "stdout",
     "output_type": "stream",
     "text": [
      "Partie 1\n"
     ]
    },
    {
     "data": {
      "text/plain": [
       "host_response_rate                 100%\n",
       "host_acceptance_rate                NaN\n",
       "host_listings_count                 1.0\n",
       "latitude                       48.83349\n",
       "longitude                       2.31852\n",
       "city                              Paris\n",
       "zipcode                           75014\n",
       "state                     Île-de-France\n",
       "accommodates                          2\n",
       "room_type               Entire home/apt\n",
       "bedrooms                            0.0\n",
       "bathrooms                           1.0\n",
       "beds                                0.0\n",
       "price                            $75.00\n",
       "cleaning_fee                     $50.00\n",
       "security_deposit                  $0.00\n",
       "minimum_nights                        3\n",
       "maximum_nights                       15\n",
       "number_of_reviews                     8\n",
       "Name: 0, dtype: object"
      ]
     },
     "execution_count": 26,
     "metadata": {},
     "output_type": "execute_result"
    }
   ],
   "source": [
    "print(\"Partie 1\")\n",
    "import pandas as pd\n",
    "paris_listings = pd.read_csv('paris_airbnb.csv')\n",
    "paris_listings.iloc[0]"
   ]
  },
  {
   "cell_type": "code",
   "execution_count": 30,
   "id": "cb111da6-95a5-4f7a-913c-c2c9d7cc7bd6",
   "metadata": {},
   "outputs": [
    {
     "name": "stdout",
     "output_type": "stream",
     "text": [
      "Première distance Euclidienne: 1\n"
     ]
    }
   ],
   "source": [
    "import numpy as np\n",
    "premier_logement = paris_listings['accommodates'].iloc[0]\n",
    "first_distance = np.abs(premier_logement - 3)\n",
    "print(f\"Première distance Euclidienne: {first_distance}\")"
   ]
  },
  {
   "cell_type": "code",
   "execution_count": 32,
   "id": "228f08b4-38cf-4e77-868a-335c21920b10",
   "metadata": {},
   "outputs": [
    {
     "name": "stdout",
     "output_type": "stream",
     "text": [
      "0    1\n",
      "1    1\n",
      "2    1\n",
      "3    0\n",
      "4    1\n",
      "Name: distance, dtype: int32\n"
     ]
    }
   ],
   "source": [
    "Series = paris_listings['accommodates'].apply(lambda x: np.abs(x - 3))\n",
    "paris_listings['distance'] = Series\n",
    "print(paris_listings[ 'distance'].head())\n"
   ]
  },
  {
   "cell_type": "code",
   "execution_count": 34,
   "id": "e9150fc9-7714-428b-a0f1-1f5371f48b6f",
   "metadata": {},
   "outputs": [
    {
     "data": {
      "text/plain": [
       "distance\n",
       "1     5665\n",
       "0      878\n",
       "2      726\n",
       "3      508\n",
       "4       88\n",
       "5       82\n",
       "6       18\n",
       "7       14\n",
       "9        8\n",
       "11       4\n",
       "8        4\n",
       "13       3\n",
       "10       2\n",
       "Name: count, dtype: int64"
      ]
     },
     "execution_count": 34,
     "metadata": {},
     "output_type": "execute_result"
    }
   ],
   "source": [
    "distance_counts = paris_listings['distance'].value_counts()\n",
    "distance_counts "
   ]
  },
  {
   "cell_type": "code",
   "execution_count": 36,
   "id": "77094e23-fb9f-4b17-ac23-3c860f88823a",
   "metadata": {},
   "outputs": [
    {
     "data": {
      "text/plain": [
       "array([4740, 5606, 4824, ..., 3980,  235, 5157], dtype=int64)"
      ]
     },
     "execution_count": 36,
     "metadata": {},
     "output_type": "execute_result"
    }
   ],
   "source": [
    "np.random.seed(1)\n",
    "random_indices = np.random.permutation(paris_listings.index) \n",
    "random_indices"
   ]
  },
  {
   "cell_type": "code",
   "execution_count": 63,
   "id": "f500f24e-ee8d-4a7c-a46c-33e3ed913c47",
   "metadata": {},
   "outputs": [
    {
     "data": {
      "text/html": [
       "<div>\n",
       "<style scoped>\n",
       "    .dataframe tbody tr th:only-of-type {\n",
       "        vertical-align: middle;\n",
       "    }\n",
       "\n",
       "    .dataframe tbody tr th {\n",
       "        vertical-align: top;\n",
       "    }\n",
       "\n",
       "    .dataframe thead th {\n",
       "        text-align: right;\n",
       "    }\n",
       "</style>\n",
       "<table border=\"1\" class=\"dataframe\">\n",
       "  <thead>\n",
       "    <tr style=\"text-align: right;\">\n",
       "      <th></th>\n",
       "      <th>host_response_rate</th>\n",
       "      <th>host_acceptance_rate</th>\n",
       "      <th>host_listings_count</th>\n",
       "      <th>latitude</th>\n",
       "      <th>longitude</th>\n",
       "      <th>city</th>\n",
       "      <th>zipcode</th>\n",
       "      <th>state</th>\n",
       "      <th>accommodates</th>\n",
       "      <th>room_type</th>\n",
       "      <th>bedrooms</th>\n",
       "      <th>bathrooms</th>\n",
       "      <th>beds</th>\n",
       "      <th>price</th>\n",
       "      <th>cleaning_fee</th>\n",
       "      <th>security_deposit</th>\n",
       "      <th>minimum_nights</th>\n",
       "      <th>maximum_nights</th>\n",
       "      <th>number_of_reviews</th>\n",
       "      <th>distance</th>\n",
       "    </tr>\n",
       "  </thead>\n",
       "  <tbody>\n",
       "    <tr>\n",
       "      <th>4740</th>\n",
       "      <td>NaN</td>\n",
       "      <td>NaN</td>\n",
       "      <td>1.0</td>\n",
       "      <td>48.83427</td>\n",
       "      <td>2.30214</td>\n",
       "      <td>Paris</td>\n",
       "      <td>75015</td>\n",
       "      <td>Île-de-France</td>\n",
       "      <td>3</td>\n",
       "      <td>Entire home/apt</td>\n",
       "      <td>3.0</td>\n",
       "      <td>1.0</td>\n",
       "      <td>2.0</td>\n",
       "      <td>$85.00</td>\n",
       "      <td>$25.00</td>\n",
       "      <td>$200.00</td>\n",
       "      <td>4</td>\n",
       "      <td>1125</td>\n",
       "      <td>8</td>\n",
       "      <td>0</td>\n",
       "    </tr>\n",
       "    <tr>\n",
       "      <th>5606</th>\n",
       "      <td>100%</td>\n",
       "      <td>NaN</td>\n",
       "      <td>836.0</td>\n",
       "      <td>48.86770</td>\n",
       "      <td>2.28888</td>\n",
       "      <td>Paris</td>\n",
       "      <td>75116</td>\n",
       "      <td>Île-de-France</td>\n",
       "      <td>4</td>\n",
       "      <td>Entire home/apt</td>\n",
       "      <td>1.0</td>\n",
       "      <td>1.0</td>\n",
       "      <td>2.0</td>\n",
       "      <td>$159.00</td>\n",
       "      <td>$20.00</td>\n",
       "      <td>$300.00</td>\n",
       "      <td>3</td>\n",
       "      <td>365</td>\n",
       "      <td>10</td>\n",
       "      <td>1</td>\n",
       "    </tr>\n",
       "    <tr>\n",
       "      <th>4824</th>\n",
       "      <td>33%</td>\n",
       "      <td>NaN</td>\n",
       "      <td>7.0</td>\n",
       "      <td>48.85706</td>\n",
       "      <td>2.38628</td>\n",
       "      <td>Paris</td>\n",
       "      <td>75011</td>\n",
       "      <td>Île-de-France</td>\n",
       "      <td>2</td>\n",
       "      <td>Entire home/apt</td>\n",
       "      <td>0.0</td>\n",
       "      <td>1.0</td>\n",
       "      <td>1.0</td>\n",
       "      <td>$100.00</td>\n",
       "      <td>$50.00</td>\n",
       "      <td>$500.00</td>\n",
       "      <td>30</td>\n",
       "      <td>305</td>\n",
       "      <td>1</td>\n",
       "      <td>1</td>\n",
       "    </tr>\n",
       "    <tr>\n",
       "      <th>4205</th>\n",
       "      <td>NaN</td>\n",
       "      <td>NaN</td>\n",
       "      <td>1.0</td>\n",
       "      <td>48.84469</td>\n",
       "      <td>2.28221</td>\n",
       "      <td>Paris</td>\n",
       "      <td>75015</td>\n",
       "      <td>Île-de-France</td>\n",
       "      <td>2</td>\n",
       "      <td>Private room</td>\n",
       "      <td>1.0</td>\n",
       "      <td>1.0</td>\n",
       "      <td>1.0</td>\n",
       "      <td>$71.00</td>\n",
       "      <td>$15.00</td>\n",
       "      <td>$200.00</td>\n",
       "      <td>1</td>\n",
       "      <td>7</td>\n",
       "      <td>0</td>\n",
       "      <td>1</td>\n",
       "    </tr>\n",
       "    <tr>\n",
       "      <th>3228</th>\n",
       "      <td>100%</td>\n",
       "      <td>NaN</td>\n",
       "      <td>1.0</td>\n",
       "      <td>48.85999</td>\n",
       "      <td>2.35576</td>\n",
       "      <td>Paris</td>\n",
       "      <td>75004</td>\n",
       "      <td>Île-de-France</td>\n",
       "      <td>2</td>\n",
       "      <td>Entire home/apt</td>\n",
       "      <td>1.0</td>\n",
       "      <td>1.0</td>\n",
       "      <td>1.0</td>\n",
       "      <td>$125.00</td>\n",
       "      <td>$40.00</td>\n",
       "      <td>$350.00</td>\n",
       "      <td>5</td>\n",
       "      <td>400</td>\n",
       "      <td>75</td>\n",
       "      <td>1</td>\n",
       "    </tr>\n",
       "    <tr>\n",
       "      <th>...</th>\n",
       "      <td>...</td>\n",
       "      <td>...</td>\n",
       "      <td>...</td>\n",
       "      <td>...</td>\n",
       "      <td>...</td>\n",
       "      <td>...</td>\n",
       "      <td>...</td>\n",
       "      <td>...</td>\n",
       "      <td>...</td>\n",
       "      <td>...</td>\n",
       "      <td>...</td>\n",
       "      <td>...</td>\n",
       "      <td>...</td>\n",
       "      <td>...</td>\n",
       "      <td>...</td>\n",
       "      <td>...</td>\n",
       "      <td>...</td>\n",
       "      <td>...</td>\n",
       "      <td>...</td>\n",
       "      <td>...</td>\n",
       "    </tr>\n",
       "    <tr>\n",
       "      <th>7935</th>\n",
       "      <td>100%</td>\n",
       "      <td>NaN</td>\n",
       "      <td>1.0</td>\n",
       "      <td>48.85222</td>\n",
       "      <td>2.36462</td>\n",
       "      <td>Paris</td>\n",
       "      <td>75004</td>\n",
       "      <td>Île-de-France</td>\n",
       "      <td>4</td>\n",
       "      <td>Entire home/apt</td>\n",
       "      <td>2.0</td>\n",
       "      <td>1.0</td>\n",
       "      <td>2.0</td>\n",
       "      <td>$265.00</td>\n",
       "      <td>$60.00</td>\n",
       "      <td>$200.00</td>\n",
       "      <td>5</td>\n",
       "      <td>1125</td>\n",
       "      <td>44</td>\n",
       "      <td>1</td>\n",
       "    </tr>\n",
       "    <tr>\n",
       "      <th>5192</th>\n",
       "      <td>100%</td>\n",
       "      <td>NaN</td>\n",
       "      <td>1.0</td>\n",
       "      <td>48.85962</td>\n",
       "      <td>2.34592</td>\n",
       "      <td>Paris</td>\n",
       "      <td>75001</td>\n",
       "      <td>Île-de-France</td>\n",
       "      <td>4</td>\n",
       "      <td>Entire home/apt</td>\n",
       "      <td>1.0</td>\n",
       "      <td>1.0</td>\n",
       "      <td>2.0</td>\n",
       "      <td>$113.00</td>\n",
       "      <td>$60.00</td>\n",
       "      <td>$300.00</td>\n",
       "      <td>3</td>\n",
       "      <td>730</td>\n",
       "      <td>82</td>\n",
       "      <td>1</td>\n",
       "    </tr>\n",
       "    <tr>\n",
       "      <th>3980</th>\n",
       "      <td>NaN</td>\n",
       "      <td>NaN</td>\n",
       "      <td>1.0</td>\n",
       "      <td>48.88989</td>\n",
       "      <td>2.34713</td>\n",
       "      <td>Paris</td>\n",
       "      <td>75018</td>\n",
       "      <td>Île-de-France</td>\n",
       "      <td>1</td>\n",
       "      <td>Private room</td>\n",
       "      <td>1.0</td>\n",
       "      <td>1.0</td>\n",
       "      <td>1.0</td>\n",
       "      <td>$111.00</td>\n",
       "      <td>NaN</td>\n",
       "      <td>NaN</td>\n",
       "      <td>6</td>\n",
       "      <td>1125</td>\n",
       "      <td>1</td>\n",
       "      <td>2</td>\n",
       "    </tr>\n",
       "    <tr>\n",
       "      <th>235</th>\n",
       "      <td>NaN</td>\n",
       "      <td>NaN</td>\n",
       "      <td>1.0</td>\n",
       "      <td>48.86998</td>\n",
       "      <td>2.35834</td>\n",
       "      <td>Paris</td>\n",
       "      <td>75010</td>\n",
       "      <td>Ile-de-France</td>\n",
       "      <td>2</td>\n",
       "      <td>Private room</td>\n",
       "      <td>1.0</td>\n",
       "      <td>1.0</td>\n",
       "      <td>1.0</td>\n",
       "      <td>$190.00</td>\n",
       "      <td>NaN</td>\n",
       "      <td>NaN</td>\n",
       "      <td>3</td>\n",
       "      <td>7</td>\n",
       "      <td>0</td>\n",
       "      <td>1</td>\n",
       "    </tr>\n",
       "    <tr>\n",
       "      <th>5157</th>\n",
       "      <td>NaN</td>\n",
       "      <td>NaN</td>\n",
       "      <td>1.0</td>\n",
       "      <td>48.89167</td>\n",
       "      <td>2.32164</td>\n",
       "      <td>Paris</td>\n",
       "      <td>75017</td>\n",
       "      <td>Île-de-France</td>\n",
       "      <td>3</td>\n",
       "      <td>Entire home/apt</td>\n",
       "      <td>1.0</td>\n",
       "      <td>1.0</td>\n",
       "      <td>2.0</td>\n",
       "      <td>$75.00</td>\n",
       "      <td>$60.00</td>\n",
       "      <td>$150.00</td>\n",
       "      <td>4</td>\n",
       "      <td>14</td>\n",
       "      <td>0</td>\n",
       "      <td>0</td>\n",
       "    </tr>\n",
       "  </tbody>\n",
       "</table>\n",
       "<p>8000 rows × 20 columns</p>\n",
       "</div>"
      ],
      "text/plain": [
       "     host_response_rate  host_acceptance_rate  host_listings_count  latitude  \\\n",
       "4740                NaN                   NaN                  1.0  48.83427   \n",
       "5606               100%                   NaN                836.0  48.86770   \n",
       "4824                33%                   NaN                  7.0  48.85706   \n",
       "4205                NaN                   NaN                  1.0  48.84469   \n",
       "3228               100%                   NaN                  1.0  48.85999   \n",
       "...                 ...                   ...                  ...       ...   \n",
       "7935               100%                   NaN                  1.0  48.85222   \n",
       "5192               100%                   NaN                  1.0  48.85962   \n",
       "3980                NaN                   NaN                  1.0  48.88989   \n",
       "235                 NaN                   NaN                  1.0  48.86998   \n",
       "5157                NaN                   NaN                  1.0  48.89167   \n",
       "\n",
       "      longitude   city zipcode          state  accommodates        room_type  \\\n",
       "4740    2.30214  Paris   75015  Île-de-France             3  Entire home/apt   \n",
       "5606    2.28888  Paris   75116  Île-de-France             4  Entire home/apt   \n",
       "4824    2.38628  Paris   75011  Île-de-France             2  Entire home/apt   \n",
       "4205    2.28221  Paris   75015  Île-de-France             2     Private room   \n",
       "3228    2.35576  Paris   75004  Île-de-France             2  Entire home/apt   \n",
       "...         ...    ...     ...            ...           ...              ...   \n",
       "7935    2.36462  Paris   75004  Île-de-France             4  Entire home/apt   \n",
       "5192    2.34592  Paris   75001  Île-de-France             4  Entire home/apt   \n",
       "3980    2.34713  Paris   75018  Île-de-France             1     Private room   \n",
       "235     2.35834  Paris   75010  Ile-de-France             2     Private room   \n",
       "5157    2.32164  Paris   75017  Île-de-France             3  Entire home/apt   \n",
       "\n",
       "      bedrooms  bathrooms  beds    price cleaning_fee security_deposit  \\\n",
       "4740       3.0        1.0   2.0   $85.00       $25.00          $200.00   \n",
       "5606       1.0        1.0   2.0  $159.00       $20.00          $300.00   \n",
       "4824       0.0        1.0   1.0  $100.00       $50.00          $500.00   \n",
       "4205       1.0        1.0   1.0   $71.00       $15.00          $200.00   \n",
       "3228       1.0        1.0   1.0  $125.00       $40.00          $350.00   \n",
       "...        ...        ...   ...      ...          ...              ...   \n",
       "7935       2.0        1.0   2.0  $265.00       $60.00          $200.00   \n",
       "5192       1.0        1.0   2.0  $113.00       $60.00          $300.00   \n",
       "3980       1.0        1.0   1.0  $111.00          NaN              NaN   \n",
       "235        1.0        1.0   1.0  $190.00          NaN              NaN   \n",
       "5157       1.0        1.0   2.0   $75.00       $60.00          $150.00   \n",
       "\n",
       "      minimum_nights  maximum_nights  number_of_reviews  distance  \n",
       "4740               4            1125                  8         0  \n",
       "5606               3             365                 10         1  \n",
       "4824              30             305                  1         1  \n",
       "4205               1               7                  0         1  \n",
       "3228               5             400                 75         1  \n",
       "...              ...             ...                ...       ...  \n",
       "7935               5            1125                 44         1  \n",
       "5192               3             730                 82         1  \n",
       "3980               6            1125                  1         2  \n",
       "235                3               7                  0         1  \n",
       "5157               4              14                  0         0  \n",
       "\n",
       "[8000 rows x 20 columns]"
      ]
     },
     "execution_count": 63,
     "metadata": {},
     "output_type": "execute_result"
    }
   ],
   "source": [
    "paris_listings = paris_listings.loc[random_indices]\n",
    "paris_listings"
   ]
  },
  {
   "cell_type": "code",
   "execution_count": 38,
   "id": "f081bfd2-9ecc-4956-8e14-1642bd967942",
   "metadata": {},
   "outputs": [
    {
     "data": {
      "text/plain": [
       "3020     $59.00\n",
       "5251     $90.00\n",
       "3203    $145.00\n",
       "836      $30.00\n",
       "4597     $80.00\n",
       "6274     $58.00\n",
       "842     $120.00\n",
       "5246     $48.00\n",
       "4601     $89.00\n",
       "845     $200.00\n",
       "Name: price, dtype: object"
      ]
     },
     "execution_count": 38,
     "metadata": {},
     "output_type": "execute_result"
    }
   ],
   "source": [
    "paris_listings_sorted = paris_listings.sort_values(by='distance')\n",
    "paris_listings_sorted['price'].head(10)"
   ]
  },
  {
   "cell_type": "code",
   "execution_count": 40,
   "id": "066b5ece-eabb-4210-ae6e-d6a27b65eba4",
   "metadata": {},
   "outputs": [
    {
     "data": {
      "text/plain": [
       "0        75.00\n",
       "1       115.00\n",
       "2       115.00\n",
       "3        90.00\n",
       "4        75.00\n",
       "         ...  \n",
       "7995     55.00\n",
       "7996     60.00\n",
       "7997     60.00\n",
       "7998     58.00\n",
       "7999     40.00\n",
       "Name: price, Length: 8000, dtype: object"
      ]
     },
     "execution_count": 40,
     "metadata": {},
     "output_type": "execute_result"
    }
   ],
   "source": [
    "sup_commas = paris_listings['price'].str.replace(',', '')\n",
    "sup_commas\n",
    "sup_dollars = sup_commas.str.replace('$', '', regex=False)\n",
    "sup_dollars"
   ]
  },
  {
   "cell_type": "code",
   "execution_count": 42,
   "id": "65d632c3-da8a-4761-99d1-2aa1ce1a4d50",
   "metadata": {},
   "outputs": [
    {
     "data": {
      "text/plain": [
       "0        75.0\n",
       "1       115.0\n",
       "2       115.0\n",
       "3        90.0\n",
       "4        75.0\n",
       "        ...  \n",
       "7995     55.0\n",
       "7996     60.0\n",
       "7997     60.0\n",
       "7998     58.0\n",
       "7999     40.0\n",
       "Name: price, Length: 8000, dtype: float64"
      ]
     },
     "execution_count": 42,
     "metadata": {},
     "output_type": "execute_result"
    }
   ],
   "source": [
    "paris_listings['price'] = sup_dollars.astype(float)\n",
    "paris_listings['price']"
   ]
  },
  {
   "cell_type": "code",
   "execution_count": 44,
   "id": "f2110fc9-51fa-4741-980a-c75e174c10cb",
   "metadata": {},
   "outputs": [
    {
     "data": {
      "text/plain": [
       "94.0"
      ]
     },
     "execution_count": 44,
     "metadata": {},
     "output_type": "execute_result"
    }
   ],
   "source": [
    "mean_price = paris_listings['price'].head(5).mean()\n",
    "mean_price"
   ]
  },
  {
   "cell_type": "code",
   "execution_count": 46,
   "id": "3456ef8c-ed91-4767-9ef2-e2d5e12d47a8",
   "metadata": {},
   "outputs": [
    {
     "name": "stdout",
     "output_type": "stream",
     "text": [
      "Partie 2\n",
      "Prix prédit pour 1 personne: 60.2\n",
      "Prix prédit pour 2 personnes: 77.8\n",
      "Prix prédit pour 4 personnes: 110.6\n"
     ]
    }
   ],
   "source": [
    "print(\"Partie 2\")\n",
    "def predict_price(new_listing):\n",
    "    \n",
    " temp_df = paris_listings.copy()\n",
    " Series = temp_df['accommodates'].apply(lambda x: np.abs(x - new_listing))\n",
    " temp_df['distance'] = Series\n",
    " temp_df = temp_df.sort_values(by='distance')\n",
    " predicted_price = temp_df['price'].head(5).mean()\n",
    " return (predicted_price)\n",
    "\n",
    "acc_one = predict_price(1)\n",
    "print(\"Prix prédit pour 1 personne:\", acc_one)\n",
    "\n",
    "acc_two = predict_price(2)\n",
    "print(\"Prix prédit pour 2 personnes:\", acc_two)\n",
    "\n",
    "acc_four = predict_price(4)\n",
    "print(\"Prix prédit pour 4 personnes:\", acc_four)"
   ]
  },
  {
   "cell_type": "code",
   "execution_count": null,
   "id": "bcc9d7f3-889b-43c6-a029-367ee7c3737e",
   "metadata": {},
   "outputs": [],
   "source": [
    "print(\"Partie 3\")\n",
    "import pandas as pd\n",
    "import numpy as np\n",
    "# Désactive les avertissements liés aux assignations chaînées dans le DataFrame,\n",
    "# ce qui permet de modifier des sous-ensembles de données sans recevoir d'avertissements.\n",
    "pd.options.mode.chained_assignment = None\n",
    "np.random.seed(1)\n",
    "\n",
    "train_df = paris_listings.iloc[0:6000]\n",
    "test_df = paris_listings.iloc[6000:]\n",
    "\n",
    "def predict_price(new_listing):\n",
    "    temp_df = train_df.copy()\n",
    "    temp_df['distance'] = temp_df['accommodates'].apply(lambda x: np.abs(x - new_listing))\n",
    "    temp_df = temp_df.sort_values(by='distance')\n",
    "    nearest_neighbor_prices = temp_df.iloc[0:5]['price']\n",
    "    predicted_price = nearest_neighbor_prices.mean()\n",
    "    print(\"***\")\n",
    "    return(predicted_price)\n",
    "# Appel de la fonction:\n",
    "test_df['predicted_price'] =  test_df['accommodates'].apply(lambda x: predict_price(x))\n",
    "print(test_df['predicted_price'])\n"
   ]
  },
  {
   "cell_type": "code",
   "execution_count": null,
   "id": "dabea113-3f58-44e7-bab3-82133fa27d72",
   "metadata": {},
   "outputs": [],
   "source": [
    "test_df['squared_error'] = (test_df['predicted_price'] - test_df['price']) ** 2\n",
    "mse = test_df['squared_error'].mean()\n",
    "print(mse)"
   ]
  },
  {
   "cell_type": "code",
   "execution_count": null,
   "id": "f7ec97a6-8757-4474-9e90-e901a91f40be",
   "metadata": {},
   "outputs": [],
   "source": []
  },
  {
   "cell_type": "code",
   "execution_count": null,
   "id": "d108ae04-0f27-4cf6-bea7-fa7fb301eb04",
   "metadata": {},
   "outputs": [],
   "source": []
  },
  {
   "cell_type": "code",
   "execution_count": null,
   "id": "c51b3d4c-07ad-4350-bcfd-30459e967351",
   "metadata": {},
   "outputs": [],
   "source": []
  }
 ],
 "metadata": {
  "kernelspec": {
   "display_name": "Python 3 (ipykernel)",
   "language": "python",
   "name": "python3"
  },
  "language_info": {
   "codemirror_mode": {
    "name": "ipython",
    "version": 3
   },
   "file_extension": ".py",
   "mimetype": "text/x-python",
   "name": "python",
   "nbconvert_exporter": "python",
   "pygments_lexer": "ipython3",
   "version": "3.12.4"
  }
 },
 "nbformat": 4,
 "nbformat_minor": 5
}
